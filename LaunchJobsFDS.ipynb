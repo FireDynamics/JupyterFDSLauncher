{
 "cells": [
  {
   "cell_type": "markdown",
   "metadata": {},
   "source": [
    "# Launch Multiple FDS Jobs with Multi-Processing\n"
   ]
  },
  {
   "cell_type": "code",
   "execution_count": 2,
   "metadata": {},
   "outputs": [],
   "source": [
    "import os\n",
    "import subprocess\n",
    "import sys\n",
    "\n",
    "import pandas as pd\n",
    "import numpy as np\n",
    "import matplotlib\n",
    "import matplotlib.pyplot as plt\n",
    "import multiprocessing as mp\n",
    "\n",
    "# Add a local script from different folder as working directory.\n",
    "# Note: Ehe \"__init__.py\" is necessary for Python when locating distributed scripts.\n",
    "sys.path.insert(0, os.path.join(\"GeneralInformation\"))\n",
    "from LaunchFDS import run_job"
   ]
  },
  {
   "cell_type": "code",
   "execution_count": 2,
   "metadata": {},
   "outputs": [
    {
     "name": "stdout",
     "output_type": "stream",
     "text": [
      "Package Versions\n",
      "----------------\n",
      "Pandas version: 0.24.1\n",
      "Numpy version: 1.15.4\n",
      "Matplotlib version: 3.0.2\n"
     ]
    }
   ],
   "source": [
    "print('Package Versions')\n",
    "print('----------------')\n",
    "print('Pandas version: {}'.format(pd.__version__))\n",
    "print('Numpy version: {}'.format(np.__version__))\n",
    "print('Matplotlib version: {}'.format(matplotlib.__version__))"
   ]
  },
  {
   "cell_type": "code",
   "execution_count": 4,
   "metadata": {},
   "outputs": [
    {
     "name": "stdout",
     "output_type": "stream",
     "text": [
      "* Current working directory:\n",
      "  D:\\Git\\JupyterFDSLauncher\n"
     ]
    }
   ],
   "source": [
    "cwd = os.getcwd()\n",
    "print(\"* Current working directory:\")\n",
    "print(' ', cwd)"
   ]
  },
  {
   "cell_type": "code",
   "execution_count": 5,
   "metadata": {},
   "outputs": [
    {
     "name": "stdout",
     "output_type": "stream",
     "text": [
      "* Output directory created.\n"
     ]
    }
   ],
   "source": [
    "# Define general information needed within this notebook.\n",
    "\n",
    "# The work directories for the simulations are provided as list \n",
    "# to easily switch between them.\n",
    "sim_work_dir = [os.path.join(cwd, 'SomeFDSInput', 'Scenario01'),\n",
    "                os.path.join(cwd, 'SomeFDSInput', 'Scenario02')]\n",
    "\n",
    "# Directory used to collect the output produced by this notebook.\n",
    "output_dir = os.path.join(cwd, \"LaunchJobsFDS\")\n",
    "if not os.path.isdir(output_dir):\n",
    "    os.mkdir(output_dir)\n",
    "    print(\"* Output directory created.\")\n",
    "else:\n",
    "    print(\"* Output directory already exists.\")"
   ]
  },
  {
   "cell_type": "markdown",
   "metadata": {},
   "source": [
    "### Some User Input Required Here"
   ]
  },
  {
   "cell_type": "code",
   "execution_count": 44,
   "metadata": {},
   "outputs": [],
   "source": [
    "# Flag, used to control if simulations ought to be conducted, or not.\n",
    "run_simulations = True\n",
    "\n",
    "# Set number of CPU cores to be used for simulation.\n",
    "num_worker = 5"
   ]
  },
  {
   "cell_type": "markdown",
   "metadata": {},
   "source": [
    "# Run Simulations"
   ]
  },
  {
   "cell_type": "code",
   "execution_count": 45,
   "metadata": {},
   "outputs": [
    {
     "data": {
      "text/plain": [
       "'D:\\\\Git\\\\JupyterFDSLauncher\\\\SomeFDSInput\\\\Scenario02\\\\FDS01\\\\tga_analysis.fds'"
      ]
     },
     "execution_count": 45,
     "metadata": {},
     "output_type": "execute_result"
    }
   ],
   "source": [
    "# Collect all the simulation input files with their paths.\n",
    "job_paths = list()\n",
    "scenario = sim_work_dir[1]\n",
    "\n",
    "# Walk through the different sub directories and look for FDS input.\n",
    "for path, subdirs, files in os.walk(scenario):\n",
    "    for name in files:\n",
    "        if '.fds' in name:\n",
    "            # print(os.path.join(path, name))\n",
    "            job_paths.append(os.path.join(path, name))\n",
    "\n",
    "# Show one item to check if all is fine.\n",
    "job_paths[0]"
   ]
  },
  {
   "cell_type": "code",
   "execution_count": 46,
   "metadata": {},
   "outputs": [
    {
     "name": "stdout",
     "output_type": "stream",
     "text": [
      "\n",
      "*** Prepare to run simulations... ***\n",
      "\n",
      "\n",
      "*** Simulation process complete. ***\n",
      "\n",
      "\n"
     ]
    }
   ],
   "source": [
    "# Perform simulations of the provided files.\n",
    "if run_simulations is True:\n",
    "    \n",
    "    print()\n",
    "    print(\"*** Prepare to run simulations... ***\")\n",
    "    print()\n",
    "    \n",
    "    # Take sim file list to distribute to the workers.\n",
    "    sim_list = job_paths\n",
    "\n",
    "    # Set up pool with workers and distribute the jobs.\n",
    "    pool = mp.Pool(processes=num_worker)\n",
    "    pool.map(run_job, sim_list[:])\n",
    "\n",
    "    print()\n",
    "    print(\"*** Simulation process complete. ***\")\n",
    "    print()\n",
    "    print()\n",
    "\n",
    "else:\n",
    "    print(\"* Automatic simulation not active. *\")"
   ]
  },
  {
   "cell_type": "markdown",
   "metadata": {},
   "source": [
    "# Analyse the Results"
   ]
  },
  {
   "cell_type": "markdown",
   "metadata": {},
   "source": [
    "## Read Simulation Response"
   ]
  },
  {
   "cell_type": "markdown",
   "metadata": {},
   "source": [
    "### Scenario 01\n",
    "\n",
    "Just some simulations to have something to show. Feel free to adjust to your liking."
   ]
  },
  {
   "cell_type": "code",
   "execution_count": 47,
   "metadata": {},
   "outputs": [
    {
     "data": {
      "text/plain": [
       "'D:\\\\Git\\\\JupyterFDSLauncher\\\\SomeFDSInput\\\\Scenario01\\\\FDS01\\\\tga_analysis_tga.csv'"
      ]
     },
     "execution_count": 47,
     "metadata": {},
     "output_type": "execute_result"
    }
   ],
   "source": [
    "# Collect all the \"*_devc.csv\" files with their paths.\n",
    "tga_scen01_paths = list()\n",
    "scenario = sim_work_dir[0]\n",
    "\n",
    "for path, subdirs, files in os.walk(scenario):\n",
    "    for name in files:\n",
    "        if '_tga.csv' in name:\n",
    "#             print(os.path.join(path, name))\n",
    "            tga_scen01_paths.append(os.path.join(path, name))\n",
    "        \n",
    "# Show a path as example.\n",
    "tga_scen01_paths[0]"
   ]
  },
  {
   "cell_type": "code",
   "execution_count": 48,
   "metadata": {},
   "outputs": [],
   "source": [
    "# Collect the simulation responses as Pandas DataFrames.\n",
    "tga_scen_01_data = list()\n",
    "\n",
    "for path in tga_scen01_paths:\n",
    "    df = pd.read_csv(path, header=1)\n",
    "    tga_scen_01_data.append(df)"
   ]
  },
  {
   "cell_type": "code",
   "execution_count": 49,
   "metadata": {},
   "outputs": [
    {
     "data": {
      "text/html": [
       "<div>\n",
       "<style scoped>\n",
       "    .dataframe tbody tr th:only-of-type {\n",
       "        vertical-align: middle;\n",
       "    }\n",
       "\n",
       "    .dataframe tbody tr th {\n",
       "        vertical-align: top;\n",
       "    }\n",
       "\n",
       "    .dataframe thead th {\n",
       "        text-align: right;\n",
       "    }\n",
       "</style>\n",
       "<table border=\"1\" class=\"dataframe\">\n",
       "  <thead>\n",
       "    <tr style=\"text-align: right;\">\n",
       "      <th></th>\n",
       "      <th>Time</th>\n",
       "      <th>Temp</th>\n",
       "      <th>Mass</th>\n",
       "      <th>MLR</th>\n",
       "      <th>MCC</th>\n",
       "      <th>DSC</th>\n",
       "    </tr>\n",
       "  </thead>\n",
       "  <tbody>\n",
       "    <tr>\n",
       "      <th>0</th>\n",
       "      <td>12.0</td>\n",
       "      <td>21.000317</td>\n",
       "      <td>0.999627</td>\n",
       "      <td>0.000032</td>\n",
       "      <td>1.252688e-19</td>\n",
       "      <td>0.189221</td>\n",
       "    </tr>\n",
       "    <tr>\n",
       "      <th>1</th>\n",
       "      <td>24.0</td>\n",
       "      <td>22.000315</td>\n",
       "      <td>0.999239</td>\n",
       "      <td>0.000033</td>\n",
       "      <td>1.759232e-19</td>\n",
       "      <td>0.192155</td>\n",
       "    </tr>\n",
       "    <tr>\n",
       "      <th>2</th>\n",
       "      <td>36.0</td>\n",
       "      <td>23.000315</td>\n",
       "      <td>0.998837</td>\n",
       "      <td>0.000034</td>\n",
       "      <td>2.464945e-19</td>\n",
       "      <td>0.195164</td>\n",
       "    </tr>\n",
       "    <tr>\n",
       "      <th>3</th>\n",
       "      <td>48.0</td>\n",
       "      <td>24.000313</td>\n",
       "      <td>0.998419</td>\n",
       "      <td>0.000035</td>\n",
       "      <td>3.445921e-19</td>\n",
       "      <td>0.198248</td>\n",
       "    </tr>\n",
       "    <tr>\n",
       "      <th>4</th>\n",
       "      <td>60.0</td>\n",
       "      <td>25.000311</td>\n",
       "      <td>0.997985</td>\n",
       "      <td>0.000037</td>\n",
       "      <td>4.806483e-19</td>\n",
       "      <td>0.201406</td>\n",
       "    </tr>\n",
       "  </tbody>\n",
       "</table>\n",
       "</div>"
      ],
      "text/plain": [
       "   Time       Temp      Mass       MLR           MCC       DSC\n",
       "0  12.0  21.000317  0.999627  0.000032  1.252688e-19  0.189221\n",
       "1  24.0  22.000315  0.999239  0.000033  1.759232e-19  0.192155\n",
       "2  36.0  23.000315  0.998837  0.000034  2.464945e-19  0.195164\n",
       "3  48.0  24.000313  0.998419  0.000035  3.445921e-19  0.198248\n",
       "4  60.0  25.000311  0.997985  0.000037  4.806483e-19  0.201406"
      ]
     },
     "execution_count": 49,
     "metadata": {},
     "output_type": "execute_result"
    }
   ],
   "source": [
    "# Show one data frame to check if all worked well.\n",
    "tga_scen_01_data[0].head()"
   ]
  },
  {
   "cell_type": "markdown",
   "metadata": {},
   "source": [
    "### Scenario 02\n",
    "\n",
    "Just some simulations to have something to show. Feel free to adjust to your liking.\n",
    "\n",
    "**Note: Run the second batch of simulations by changing the scenario to \"1\" in \"Run Simulations\"!**"
   ]
  },
  {
   "cell_type": "code",
   "execution_count": 50,
   "metadata": {},
   "outputs": [
    {
     "data": {
      "text/plain": [
       "'D:\\\\Git\\\\JupyterFDSLauncher\\\\SomeFDSInput\\\\Scenario02\\\\FDS01\\\\tga_analysis_tga.csv'"
      ]
     },
     "execution_count": 50,
     "metadata": {},
     "output_type": "execute_result"
    }
   ],
   "source": [
    "# Collect all the \"*_devc.csv\" files with their paths.\n",
    "tga_scen02_paths = list()\n",
    "scenario = sim_work_dir[1]\n",
    "\n",
    "for path, subdirs, files in os.walk(scenario):\n",
    "    for name in files:\n",
    "        if '_tga.csv' in name:\n",
    "#             print(os.path.join(path, name))\n",
    "            tga_scen02_paths.append(os.path.join(path, name))\n",
    "        \n",
    "# Show a path as example.\n",
    "tga_scen02_paths[0]"
   ]
  },
  {
   "cell_type": "code",
   "execution_count": 51,
   "metadata": {},
   "outputs": [],
   "source": [
    "# Collect the simulation responses as Pandas DataFrames.\n",
    "tga_scen_02_data = list()\n",
    "\n",
    "for path in tga_scen02_paths:\n",
    "    df = pd.read_csv(path, header=1)\n",
    "    tga_scen_02_data.append(df)"
   ]
  },
  {
   "cell_type": "code",
   "execution_count": 52,
   "metadata": {},
   "outputs": [
    {
     "data": {
      "text/html": [
       "<div>\n",
       "<style scoped>\n",
       "    .dataframe tbody tr th:only-of-type {\n",
       "        vertical-align: middle;\n",
       "    }\n",
       "\n",
       "    .dataframe tbody tr th {\n",
       "        vertical-align: top;\n",
       "    }\n",
       "\n",
       "    .dataframe thead th {\n",
       "        text-align: right;\n",
       "    }\n",
       "</style>\n",
       "<table border=\"1\" class=\"dataframe\">\n",
       "  <thead>\n",
       "    <tr style=\"text-align: right;\">\n",
       "      <th></th>\n",
       "      <th>Time</th>\n",
       "      <th>Temp</th>\n",
       "      <th>Mass</th>\n",
       "      <th>MLR</th>\n",
       "      <th>MCC</th>\n",
       "      <th>DSC</th>\n",
       "    </tr>\n",
       "  </thead>\n",
       "  <tbody>\n",
       "    <tr>\n",
       "      <th>0</th>\n",
       "      <td>12.0</td>\n",
       "      <td>21.000317</td>\n",
       "      <td>0.999627</td>\n",
       "      <td>0.000032</td>\n",
       "      <td>5.924180e-22</td>\n",
       "      <td>0.189221</td>\n",
       "    </tr>\n",
       "    <tr>\n",
       "      <th>1</th>\n",
       "      <td>24.0</td>\n",
       "      <td>22.000315</td>\n",
       "      <td>0.999239</td>\n",
       "      <td>0.000033</td>\n",
       "      <td>8.524605e-22</td>\n",
       "      <td>0.192155</td>\n",
       "    </tr>\n",
       "    <tr>\n",
       "      <th>2</th>\n",
       "      <td>36.0</td>\n",
       "      <td>23.000315</td>\n",
       "      <td>0.998837</td>\n",
       "      <td>0.000034</td>\n",
       "      <td>1.223638e-21</td>\n",
       "      <td>0.195164</td>\n",
       "    </tr>\n",
       "    <tr>\n",
       "      <th>3</th>\n",
       "      <td>48.0</td>\n",
       "      <td>24.000313</td>\n",
       "      <td>0.998419</td>\n",
       "      <td>0.000035</td>\n",
       "      <td>1.752165e-21</td>\n",
       "      <td>0.198248</td>\n",
       "    </tr>\n",
       "    <tr>\n",
       "      <th>4</th>\n",
       "      <td>60.0</td>\n",
       "      <td>25.000311</td>\n",
       "      <td>0.997985</td>\n",
       "      <td>0.000037</td>\n",
       "      <td>2.502944e-21</td>\n",
       "      <td>0.201406</td>\n",
       "    </tr>\n",
       "  </tbody>\n",
       "</table>\n",
       "</div>"
      ],
      "text/plain": [
       "   Time       Temp      Mass       MLR           MCC       DSC\n",
       "0  12.0  21.000317  0.999627  0.000032  5.924180e-22  0.189221\n",
       "1  24.0  22.000315  0.999239  0.000033  8.524605e-22  0.192155\n",
       "2  36.0  23.000315  0.998837  0.000034  1.223638e-21  0.195164\n",
       "3  48.0  24.000313  0.998419  0.000035  1.752165e-21  0.198248\n",
       "4  60.0  25.000311  0.997985  0.000037  2.502944e-21  0.201406"
      ]
     },
     "execution_count": 52,
     "metadata": {},
     "output_type": "execute_result"
    }
   ],
   "source": [
    "# Show one data frame to check if all worked well.\n",
    "tga_scen_02_data[0].head()"
   ]
  },
  {
   "cell_type": "markdown",
   "metadata": {},
   "source": [
    "## Plot Data"
   ]
  },
  {
   "cell_type": "markdown",
   "metadata": {},
   "source": [
    "### Scenario 01"
   ]
  },
  {
   "cell_type": "code",
   "execution_count": 53,
   "metadata": {},
   "outputs": [
    {
     "name": "stdout",
     "output_type": "stream",
     "text": [
      "Number of data series: 5\n"
     ]
    },
    {
     "data": {
      "image/png": "[encoded data removed]",
      "text/plain": [
       "<Figure size 432x288 with 1 Axes>"
      ]
     },
     "metadata": {
      "needs_background": "light"
     },
     "output_type": "display_data"
    }
   ],
   "source": [
    "# Name the file to be created.\n",
    "plot_file_name = 'TGA_Scenario_01.png'\n",
    "\n",
    "# Scale color cycle by number of data sets to plot.\n",
    "num_plots = len(tga_scen_01_data)\n",
    "print('Number of data series: {}'.format(num_plots))\n",
    "plt.gca().set_prop_cycle(plt.cycler('color',\n",
    "                                    plt.cm.viridis(np.linspace(0, 1, num_plots))))\n",
    "\n",
    "# Plot sim data.\n",
    "for data in tga_scen_01_data:\n",
    "    plt.plot(data.Time, data.Mass)\n",
    "    \n",
    "plt.grid()\n",
    "plt.xlabel('Time, in s')\n",
    "plt.ylabel('Normalised residual mass')\n",
    "plt.title('TGA Scenario 01')\n",
    "\n",
    "# Build file name and save.\n",
    "pfn = os.path.join(output_dir, plot_file_name)\n",
    "plt.savefig(pfn, dpi=320);"
   ]
  },
  {
   "cell_type": "markdown",
   "metadata": {},
   "source": [
    "### Scenario 02"
   ]
  },
  {
   "cell_type": "code",
   "execution_count": 55,
   "metadata": {},
   "outputs": [
    {
     "name": "stdout",
     "output_type": "stream",
     "text": [
      "Number of data series: 5\n"
     ]
    },
    {
     "data": {
      "image/png": "[encoded data removed]",
      "text/plain": [
       "<Figure size 432x288 with 1 Axes>"
      ]
     },
     "metadata": {
      "needs_background": "light"
     },
     "output_type": "display_data"
    }
   ],
   "source": [
    "# Name the file to be created.\n",
    "plot_file_name = 'TGA_Scenario_02.png'\n",
    "\n",
    "# Scale color cycle by number of data sets to plot.\n",
    "num_plots = len(tga_scen_02_data)\n",
    "print('Number of data series: {}'.format(num_plots))\n",
    "plt.gca().set_prop_cycle(plt.cycler('color',\n",
    "                                    plt.cm.viridis(np.linspace(0, 1, num_plots))))\n",
    "\n",
    "# Plot sim data.\n",
    "for data in tga_scen_02_data:\n",
    "    plt.plot(data.Time, data.Mass)\n",
    "    \n",
    "plt.grid()\n",
    "plt.xlabel('Time, in s')\n",
    "plt.ylabel('Normalised residual mass')\n",
    "plt.title('TGA Scenario 02')\n",
    "\n",
    "# Build file name and save.\n",
    "pfn = os.path.join(output_dir, plot_file_name)\n",
    "plt.savefig(pfn, dpi=320);"
   ]
  },
  {
   "cell_type": "code",
   "execution_count": null,
   "metadata": {},
   "outputs": [],
   "source": []
  },
  {
   "cell_type": "code",
   "execution_count": null,
   "metadata": {},
   "outputs": [],
   "source": []
  },
  {
   "cell_type": "code",
   "execution_count": null,
   "metadata": {},
   "outputs": [],
   "source": []
  },
  {
   "cell_type": "code",
   "execution_count": null,
   "metadata": {},
   "outputs": [],
   "source": []
  },
  {
   "cell_type": "code",
   "execution_count": null,
   "metadata": {},
   "outputs": [],
   "source": []
  },
  {
   "cell_type": "code",
   "execution_count": null,
   "metadata": {},
   "outputs": [],
   "source": []
  },
  {
   "cell_type": "code",
   "execution_count": null,
   "metadata": {},
   "outputs": [],
   "source": []
  },
  {
   "cell_type": "code",
   "execution_count": null,
   "metadata": {},
   "outputs": [],
   "source": []
  },
  {
   "cell_type": "code",
   "execution_count": null,
   "metadata": {},
   "outputs": [],
   "source": []
  },
  {
   "cell_type": "code",
   "execution_count": null,
   "metadata": {},
   "outputs": [],
   "source": []
  },
  {
   "cell_type": "code",
   "execution_count": null,
   "metadata": {},
   "outputs": [],
   "source": []
  },
  {
   "cell_type": "code",
   "execution_count": null,
   "metadata": {},
   "outputs": [],
   "source": []
  },
  {
   "cell_type": "code",
   "execution_count": null,
   "metadata": {},
   "outputs": [],
   "source": []
  },
  {
   "cell_type": "code",
   "execution_count": null,
   "metadata": {},
   "outputs": [],
   "source": []
  },
  {
   "cell_type": "code",
   "execution_count": null,
   "metadata": {},
   "outputs": [],
   "source": []
  },
  {
   "cell_type": "code",
   "execution_count": null,
   "metadata": {},
   "outputs": [],
   "source": []
  },
  {
   "cell_type": "code",
   "execution_count": null,
   "metadata": {},
   "outputs": [],
   "source": []
  },
  {
   "cell_type": "code",
   "execution_count": null,
   "metadata": {},
   "outputs": [],
   "source": []
  },
  {
   "cell_type": "code",
   "execution_count": null,
   "metadata": {},
   "outputs": [],
   "source": []
  }
 ],
 "metadata": {
  "kernelspec": {
   "display_name": "Python 3",
   "language": "python",
   "name": "python3"
  },
  "language_info": {
   "codemirror_mode": {
    "name": "ipython",
    "version": 3
   },
   "file_extension": ".py",
   "mimetype": "text/x-python",
   "name": "python",
   "nbconvert_exporter": "python",
   "pygments_lexer": "ipython3",
   "version": "3.6.8"
  }
 },
 "nbformat": 4,
 "nbformat_minor": 2
}
